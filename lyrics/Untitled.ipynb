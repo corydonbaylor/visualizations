{
 "cells": [
  {
   "source": [
    "importing libraries"
   ],
   "cell_type": "markdown",
   "metadata": {}
  },
  {
   "cell_type": "code",
   "execution_count": 2,
   "metadata": {},
   "outputs": [],
   "source": [
    "import pandas as pd\n",
    "import numpy as np\n",
    "import matplotlib.pyplot as plt\n",
    "import seaborn as sns\n",
    "from urllib.request import urlopen\n",
    "from bs4 import BeautifulSoup"
   ]
  },
  {
   "cell_type": "code",
   "execution_count": 2,
   "metadata": {},
   "outputs": [
    {
     "output_type": "execute_result",
     "data": {
      "text/plain": [
       "     rank           artist                                           song  \\\n",
       "0       1      Percy Faith                    Theme From “A Summer Place”   \n",
       "1       2       Jim Reeves                               He’ll Have To Go   \n",
       "2       3  Everly Brothers                                  Cathy’s Clown   \n",
       "3       4   Johnny Preston                                   Running Bear   \n",
       "4       5     Mark Dinning                                     Teen Angel   \n",
       "..    ...              ...                                            ...   \n",
       "995    96        Guess Who                                       Laughing   \n",
       "996    97     David Ruffin  My Whole World Ended (The Moment You Left Me)   \n",
       "997    98         Box Tops                                      Soul Deep   \n",
       "998    99      B.J. Thomas                            Hooked On A Feeling   \n",
       "999   100         Box Tops                             Sweet Cream Ladies   \n",
       "\n",
       "     year  \n",
       "0    1960  \n",
       "1    1960  \n",
       "2    1960  \n",
       "3    1960  \n",
       "4    1960  \n",
       "..    ...  \n",
       "995  1969  \n",
       "996  1969  \n",
       "997  1969  \n",
       "998  1969  \n",
       "999  1969  \n",
       "\n",
       "[1000 rows x 4 columns]"
      ],
      "text/html": "<div>\n<style scoped>\n    .dataframe tbody tr th:only-of-type {\n        vertical-align: middle;\n    }\n\n    .dataframe tbody tr th {\n        vertical-align: top;\n    }\n\n    .dataframe thead th {\n        text-align: right;\n    }\n</style>\n<table border=\"1\" class=\"dataframe\">\n  <thead>\n    <tr style=\"text-align: right;\">\n      <th></th>\n      <th>rank</th>\n      <th>artist</th>\n      <th>song</th>\n      <th>year</th>\n    </tr>\n  </thead>\n  <tbody>\n    <tr>\n      <th>0</th>\n      <td>1</td>\n      <td>Percy Faith</td>\n      <td>Theme From “A Summer Place”</td>\n      <td>1960</td>\n    </tr>\n    <tr>\n      <th>1</th>\n      <td>2</td>\n      <td>Jim Reeves</td>\n      <td>He’ll Have To Go</td>\n      <td>1960</td>\n    </tr>\n    <tr>\n      <th>2</th>\n      <td>3</td>\n      <td>Everly Brothers</td>\n      <td>Cathy’s Clown</td>\n      <td>1960</td>\n    </tr>\n    <tr>\n      <th>3</th>\n      <td>4</td>\n      <td>Johnny Preston</td>\n      <td>Running Bear</td>\n      <td>1960</td>\n    </tr>\n    <tr>\n      <th>4</th>\n      <td>5</td>\n      <td>Mark Dinning</td>\n      <td>Teen Angel</td>\n      <td>1960</td>\n    </tr>\n    <tr>\n      <th>...</th>\n      <td>...</td>\n      <td>...</td>\n      <td>...</td>\n      <td>...</td>\n    </tr>\n    <tr>\n      <th>995</th>\n      <td>96</td>\n      <td>Guess Who</td>\n      <td>Laughing</td>\n      <td>1969</td>\n    </tr>\n    <tr>\n      <th>996</th>\n      <td>97</td>\n      <td>David Ruffin</td>\n      <td>My Whole World Ended (The Moment You Left Me)</td>\n      <td>1969</td>\n    </tr>\n    <tr>\n      <th>997</th>\n      <td>98</td>\n      <td>Box Tops</td>\n      <td>Soul Deep</td>\n      <td>1969</td>\n    </tr>\n    <tr>\n      <th>998</th>\n      <td>99</td>\n      <td>B.J. Thomas</td>\n      <td>Hooked On A Feeling</td>\n      <td>1969</td>\n    </tr>\n    <tr>\n      <th>999</th>\n      <td>100</td>\n      <td>Box Tops</td>\n      <td>Sweet Cream Ladies</td>\n      <td>1969</td>\n    </tr>\n  </tbody>\n</table>\n<p>1000 rows × 4 columns</p>\n</div>"
     },
     "metadata": {},
     "execution_count": 2
    }
   ],
   "source": [
    "# we need to initiate outside of the loop\n",
    "data = pd.DataFrame()\n",
    "\n",
    "# 1960 to 2012 are in the same format lol\n",
    "for x in range(1960, 1970):\n",
    "    url = 'http://www.billboardtop100of.com/' + str(x) + '-2/'\n",
    "    html = urlopen(url)\n",
    "\n",
    "    # creating a beautiful soup object\n",
    "    soup = BeautifulSoup(html, 'lxml')\n",
    "\n",
    "    # find the table and then convert it into a string\n",
    "    html_table = str(soup.find('table'))\n",
    "\n",
    "    # turn that str into a pd dataframe\n",
    "    temp = pd.read_html(html_table)\n",
    "    temp = temp[0]\n",
    "\n",
    "    # fix up columns\n",
    "    temp.columns = ['rank', 'artist', 'song']\n",
    "    temp['year'] = x\n",
    "    data = data.append(temp, ignore_index = True)\n",
    "\n",
    "data\n",
    "    "
   ]
  },
  {
   "cell_type": "code",
   "execution_count": null,
   "metadata": {},
   "outputs": [],
   "source": [
    "# 1960 to 2012 are in the same format lol\n",
    "for x in range(1970, 2013):\n",
    "    url = 'http://www.billboardtop100of.com/' + str(x) + '-2/'\n",
    "    html = urlopen(url)\n",
    "\n",
    "    # creating a beautiful soup object\n",
    "    soup = BeautifulSoup(html, 'lxml')\n",
    "\n",
    "    # find the table and then convert it into a string\n",
    "    html_table = str(soup.find('table'))\n",
    "\n",
    "    # turn that str into a pd dataframe\n",
    "    temp = pd.read_html(html_table)\n",
    "    temp = temp[0]\n",
    "\n",
    "    # fix up columns\n",
    "    temp.columns = ['rank', 'artist', 'song']\n",
    "    temp['year'] = x\n",
    "    data = data.append(temp, ignore_index = True)"
   ]
  },
  {
   "cell_type": "code",
   "execution_count": null,
   "metadata": {},
   "outputs": [],
   "source": [
    "data"
   ]
  },
  {
   "cell_type": "code",
   "execution_count": null,
   "metadata": {},
   "outputs": [],
   "source": [
    "data.to_csv('data.csv', index=False)"
   ]
  },
  {
   "cell_type": "code",
   "execution_count": 3,
   "metadata": {},
   "outputs": [
    {
     "output_type": "execute_result",
     "data": {
      "text/plain": [
       "    rank           artist                   song  year\n",
       "0      1       percyfaith  themefromasummerplace  1960\n",
       "1      2        jimreeves           hellhavetogo  1960\n",
       "2      3   everlybrothers            cathysclown  1960\n",
       "3      4    johnnypreston            runningbear  1960\n",
       "4      5      markdinning              teenangel  1960\n",
       "..   ...              ...                    ...   ...\n",
       "95    96      bobbyrydell        littlebittygirl  1960\n",
       "96    97     barretstrong                  money  1960\n",
       "97    98  mauricewilliams                   stay  1960\n",
       "98    99      charlierich         lonelyweekends  1960\n",
       "99   100        larryhall                  sandy  1960\n",
       "\n",
       "[100 rows x 4 columns]"
      ],
      "text/html": "<div>\n<style scoped>\n    .dataframe tbody tr th:only-of-type {\n        vertical-align: middle;\n    }\n\n    .dataframe tbody tr th {\n        vertical-align: top;\n    }\n\n    .dataframe thead th {\n        text-align: right;\n    }\n</style>\n<table border=\"1\" class=\"dataframe\">\n  <thead>\n    <tr style=\"text-align: right;\">\n      <th></th>\n      <th>rank</th>\n      <th>artist</th>\n      <th>song</th>\n      <th>year</th>\n    </tr>\n  </thead>\n  <tbody>\n    <tr>\n      <th>0</th>\n      <td>1</td>\n      <td>percyfaith</td>\n      <td>themefromasummerplace</td>\n      <td>1960</td>\n    </tr>\n    <tr>\n      <th>1</th>\n      <td>2</td>\n      <td>jimreeves</td>\n      <td>hellhavetogo</td>\n      <td>1960</td>\n    </tr>\n    <tr>\n      <th>2</th>\n      <td>3</td>\n      <td>everlybrothers</td>\n      <td>cathysclown</td>\n      <td>1960</td>\n    </tr>\n    <tr>\n      <th>3</th>\n      <td>4</td>\n      <td>johnnypreston</td>\n      <td>runningbear</td>\n      <td>1960</td>\n    </tr>\n    <tr>\n      <th>4</th>\n      <td>5</td>\n      <td>markdinning</td>\n      <td>teenangel</td>\n      <td>1960</td>\n    </tr>\n    <tr>\n      <th>...</th>\n      <td>...</td>\n      <td>...</td>\n      <td>...</td>\n      <td>...</td>\n    </tr>\n    <tr>\n      <th>95</th>\n      <td>96</td>\n      <td>bobbyrydell</td>\n      <td>littlebittygirl</td>\n      <td>1960</td>\n    </tr>\n    <tr>\n      <th>96</th>\n      <td>97</td>\n      <td>barretstrong</td>\n      <td>money</td>\n      <td>1960</td>\n    </tr>\n    <tr>\n      <th>97</th>\n      <td>98</td>\n      <td>mauricewilliams</td>\n      <td>stay</td>\n      <td>1960</td>\n    </tr>\n    <tr>\n      <th>98</th>\n      <td>99</td>\n      <td>charlierich</td>\n      <td>lonelyweekends</td>\n      <td>1960</td>\n    </tr>\n    <tr>\n      <th>99</th>\n      <td>100</td>\n      <td>larryhall</td>\n      <td>sandy</td>\n      <td>1960</td>\n    </tr>\n  </tbody>\n</table>\n<p>100 rows × 4 columns</p>\n</div>"
     },
     "metadata": {},
     "execution_count": 3
    }
   ],
   "source": [
    "# reading in data on top songs\n",
    "df = pd.read_csv('data.csv')\n",
    "\n",
    "# no punctuation, lower case, no spaces\n",
    "df['artist']= df['artist'].str.replace(r'[^\\w\\s]+','').str.lower().str.replace(' ', '')\n",
    "df[\"song\"] = df['song'].str.replace(r'[^\\w\\s]+','').str.lower().str.replace(' ', '')\n",
    "\n",
    "df2 = df.head(100)\n",
    "df2"
   ]
  },
  {
   "cell_type": "code",
   "execution_count": null,
   "metadata": {},
   "outputs": [],
   "source": [
    "# http://ws.audioscrobbler.com/2.0/?method=artist.gettoptags&artist=cher&api_key=190fe4a90413f7f072239c2872d834f6&format=json"
   ]
  }
 ],
 "metadata": {
  "kernelspec": {
   "display_name": "Python 3",
   "language": "python",
   "name": "python3"
  },
  "language_info": {
   "codemirror_mode": {
    "name": "ipython",
    "version": 3
   },
   "file_extension": ".py",
   "mimetype": "text/x-python",
   "name": "python",
   "nbconvert_exporter": "python",
   "pygments_lexer": "ipython3",
   "version": "3.8.3-final"
  }
 },
 "nbformat": 4,
 "nbformat_minor": 4
}