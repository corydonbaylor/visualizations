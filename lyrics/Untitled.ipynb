{
 "cells": [
  {
   "cell_type": "code",
   "execution_count": 1,
   "metadata": {},
   "outputs": [],
   "source": [
    "import pandas as pd\n",
    "import numpy as np\n",
    "import matplotlib.pyplot as plt\n",
    "import seaborn as sns\n",
    "from urllib.request import urlopen\n",
    "from bs4 import BeautifulSoup"
   ]
  },
  {
   "cell_type": "code",
   "execution_count": 48,
   "metadata": {},
   "outputs": [
    {
     "data": {
      "text/html": [
       "<div>\n",
       "<style scoped>\n",
       "    .dataframe tbody tr th:only-of-type {\n",
       "        vertical-align: middle;\n",
       "    }\n",
       "\n",
       "    .dataframe tbody tr th {\n",
       "        vertical-align: top;\n",
       "    }\n",
       "\n",
       "    .dataframe thead th {\n",
       "        text-align: right;\n",
       "    }\n",
       "</style>\n",
       "<table border=\"1\" class=\"dataframe\">\n",
       "  <thead>\n",
       "    <tr style=\"text-align: right;\">\n",
       "      <th></th>\n",
       "      <th>rank</th>\n",
       "      <th>artist</th>\n",
       "      <th>song</th>\n",
       "      <th>year</th>\n",
       "    </tr>\n",
       "  </thead>\n",
       "  <tbody>\n",
       "    <tr>\n",
       "      <th>0</th>\n",
       "      <td>1</td>\n",
       "      <td>Percy Faith</td>\n",
       "      <td>Theme From “A Summer Place”</td>\n",
       "      <td>1960</td>\n",
       "    </tr>\n",
       "    <tr>\n",
       "      <th>1</th>\n",
       "      <td>2</td>\n",
       "      <td>Jim Reeves</td>\n",
       "      <td>He’ll Have To Go</td>\n",
       "      <td>1960</td>\n",
       "    </tr>\n",
       "    <tr>\n",
       "      <th>2</th>\n",
       "      <td>3</td>\n",
       "      <td>Everly Brothers</td>\n",
       "      <td>Cathy’s Clown</td>\n",
       "      <td>1960</td>\n",
       "    </tr>\n",
       "    <tr>\n",
       "      <th>3</th>\n",
       "      <td>4</td>\n",
       "      <td>Johnny Preston</td>\n",
       "      <td>Running Bear</td>\n",
       "      <td>1960</td>\n",
       "    </tr>\n",
       "    <tr>\n",
       "      <th>4</th>\n",
       "      <td>5</td>\n",
       "      <td>Mark Dinning</td>\n",
       "      <td>Teen Angel</td>\n",
       "      <td>1960</td>\n",
       "    </tr>\n",
       "    <tr>\n",
       "      <th>...</th>\n",
       "      <td>...</td>\n",
       "      <td>...</td>\n",
       "      <td>...</td>\n",
       "      <td>...</td>\n",
       "    </tr>\n",
       "    <tr>\n",
       "      <th>995</th>\n",
       "      <td>96</td>\n",
       "      <td>Guess Who</td>\n",
       "      <td>Laughing</td>\n",
       "      <td>1969</td>\n",
       "    </tr>\n",
       "    <tr>\n",
       "      <th>996</th>\n",
       "      <td>97</td>\n",
       "      <td>David Ruffin</td>\n",
       "      <td>My Whole World Ended (The Moment You Left Me)</td>\n",
       "      <td>1969</td>\n",
       "    </tr>\n",
       "    <tr>\n",
       "      <th>997</th>\n",
       "      <td>98</td>\n",
       "      <td>Box Tops</td>\n",
       "      <td>Soul Deep</td>\n",
       "      <td>1969</td>\n",
       "    </tr>\n",
       "    <tr>\n",
       "      <th>998</th>\n",
       "      <td>99</td>\n",
       "      <td>B.J. Thomas</td>\n",
       "      <td>Hooked On A Feeling</td>\n",
       "      <td>1969</td>\n",
       "    </tr>\n",
       "    <tr>\n",
       "      <th>999</th>\n",
       "      <td>100</td>\n",
       "      <td>Box Tops</td>\n",
       "      <td>Sweet Cream Ladies</td>\n",
       "      <td>1969</td>\n",
       "    </tr>\n",
       "  </tbody>\n",
       "</table>\n",
       "<p>1000 rows × 4 columns</p>\n",
       "</div>"
      ],
      "text/plain": [
       "     rank           artist                                           song  \\\n",
       "0       1      Percy Faith                    Theme From “A Summer Place”   \n",
       "1       2       Jim Reeves                               He’ll Have To Go   \n",
       "2       3  Everly Brothers                                  Cathy’s Clown   \n",
       "3       4   Johnny Preston                                   Running Bear   \n",
       "4       5     Mark Dinning                                     Teen Angel   \n",
       "..    ...              ...                                            ...   \n",
       "995    96        Guess Who                                       Laughing   \n",
       "996    97     David Ruffin  My Whole World Ended (The Moment You Left Me)   \n",
       "997    98         Box Tops                                      Soul Deep   \n",
       "998    99      B.J. Thomas                            Hooked On A Feeling   \n",
       "999   100         Box Tops                             Sweet Cream Ladies   \n",
       "\n",
       "     year  \n",
       "0    1960  \n",
       "1    1960  \n",
       "2    1960  \n",
       "3    1960  \n",
       "4    1960  \n",
       "..    ...  \n",
       "995  1969  \n",
       "996  1969  \n",
       "997  1969  \n",
       "998  1969  \n",
       "999  1969  \n",
       "\n",
       "[1000 rows x 4 columns]"
      ]
     },
     "execution_count": 48,
     "metadata": {},
     "output_type": "execute_result"
    }
   ],
   "source": [
    "# we need to initiate outside of the loop\n",
    "data = pd.DataFrame()\n",
    "\n",
    "# 1960 to 2012 are in the same format lol\n",
    "for x in range(1960, 1970):\n",
    "    url = 'http://www.billboardtop100of.com/' + str(x) + '-2/'\n",
    "    html = urlopen(url)\n",
    "\n",
    "    # creating a beautiful soup object\n",
    "    soup = BeautifulSoup(html, 'lxml')\n",
    "\n",
    "    # find the table and then convert it into a string\n",
    "    html_table = str(soup.find('table'))\n",
    "\n",
    "    # turn that str into a pd dataframe\n",
    "    temp = pd.read_html(html_table)\n",
    "    temp = temp[0]\n",
    "\n",
    "    # fix up columns\n",
    "    temp.columns = ['rank', 'artist', 'song']\n",
    "    temp['year'] = x\n",
    "    data = data.append(temp, ignore_index = True)\n",
    "\n",
    "data\n",
    "    "
   ]
  },
  {
   "cell_type": "code",
   "execution_count": 49,
   "metadata": {},
   "outputs": [],
   "source": [
    "# 1960 to 2012 are in the same format lol\n",
    "for x in range(1970, 2013):\n",
    "    url = 'http://www.billboardtop100of.com/' + str(x) + '-2/'\n",
    "    html = urlopen(url)\n",
    "\n",
    "    # creating a beautiful soup object\n",
    "    soup = BeautifulSoup(html, 'lxml')\n",
    "\n",
    "    # find the table and then convert it into a string\n",
    "    html_table = str(soup.find('table'))\n",
    "\n",
    "    # turn that str into a pd dataframe\n",
    "    temp = pd.read_html(html_table)\n",
    "    temp = temp[0]\n",
    "\n",
    "    # fix up columns\n",
    "    temp.columns = ['rank', 'artist', 'song']\n",
    "    temp['year'] = x\n",
    "    data = data.append(temp, ignore_index = True)"
   ]
  },
  {
   "cell_type": "code",
   "execution_count": 50,
   "metadata": {},
   "outputs": [
    {
     "data": {
      "text/html": [
       "<div>\n",
       "<style scoped>\n",
       "    .dataframe tbody tr th:only-of-type {\n",
       "        vertical-align: middle;\n",
       "    }\n",
       "\n",
       "    .dataframe tbody tr th {\n",
       "        vertical-align: top;\n",
       "    }\n",
       "\n",
       "    .dataframe thead th {\n",
       "        text-align: right;\n",
       "    }\n",
       "</style>\n",
       "<table border=\"1\" class=\"dataframe\">\n",
       "  <thead>\n",
       "    <tr style=\"text-align: right;\">\n",
       "      <th></th>\n",
       "      <th>rank</th>\n",
       "      <th>artist</th>\n",
       "      <th>song</th>\n",
       "      <th>year</th>\n",
       "    </tr>\n",
       "  </thead>\n",
       "  <tbody>\n",
       "    <tr>\n",
       "      <th>0</th>\n",
       "      <td>1</td>\n",
       "      <td>Percy Faith</td>\n",
       "      <td>Theme From “A Summer Place”</td>\n",
       "      <td>1960</td>\n",
       "    </tr>\n",
       "    <tr>\n",
       "      <th>1</th>\n",
       "      <td>2</td>\n",
       "      <td>Jim Reeves</td>\n",
       "      <td>He’ll Have To Go</td>\n",
       "      <td>1960</td>\n",
       "    </tr>\n",
       "    <tr>\n",
       "      <th>2</th>\n",
       "      <td>3</td>\n",
       "      <td>Everly Brothers</td>\n",
       "      <td>Cathy’s Clown</td>\n",
       "      <td>1960</td>\n",
       "    </tr>\n",
       "    <tr>\n",
       "      <th>3</th>\n",
       "      <td>4</td>\n",
       "      <td>Johnny Preston</td>\n",
       "      <td>Running Bear</td>\n",
       "      <td>1960</td>\n",
       "    </tr>\n",
       "    <tr>\n",
       "      <th>4</th>\n",
       "      <td>5</td>\n",
       "      <td>Mark Dinning</td>\n",
       "      <td>Teen Angel</td>\n",
       "      <td>1960</td>\n",
       "    </tr>\n",
       "    <tr>\n",
       "      <th>...</th>\n",
       "      <td>...</td>\n",
       "      <td>...</td>\n",
       "      <td>...</td>\n",
       "      <td>...</td>\n",
       "    </tr>\n",
       "    <tr>\n",
       "      <th>5295</th>\n",
       "      <td>96</td>\n",
       "      <td>Kip Moore</td>\n",
       "      <td>Somethin’ ‘Bout A Truck</td>\n",
       "      <td>2012</td>\n",
       "    </tr>\n",
       "    <tr>\n",
       "      <th>5296</th>\n",
       "      <td>97</td>\n",
       "      <td>Miguel</td>\n",
       "      <td>Adorn</td>\n",
       "      <td>2012</td>\n",
       "    </tr>\n",
       "    <tr>\n",
       "      <th>5297</th>\n",
       "      <td>98</td>\n",
       "      <td>Jason Aldean</td>\n",
       "      <td>Fly Over States</td>\n",
       "      <td>2012</td>\n",
       "    </tr>\n",
       "    <tr>\n",
       "      <th>5298</th>\n",
       "      <td>99</td>\n",
       "      <td>Eli Young Band</td>\n",
       "      <td>Even If It Breaks Your Heart</td>\n",
       "      <td>2012</td>\n",
       "    </tr>\n",
       "    <tr>\n",
       "      <th>5299</th>\n",
       "      <td>100</td>\n",
       "      <td>Linkin Park</td>\n",
       "      <td>Burn It Down</td>\n",
       "      <td>2012</td>\n",
       "    </tr>\n",
       "  </tbody>\n",
       "</table>\n",
       "<p>5300 rows × 4 columns</p>\n",
       "</div>"
      ],
      "text/plain": [
       "      rank           artist                          song  year\n",
       "0        1      Percy Faith   Theme From “A Summer Place”  1960\n",
       "1        2       Jim Reeves              He’ll Have To Go  1960\n",
       "2        3  Everly Brothers                 Cathy’s Clown  1960\n",
       "3        4   Johnny Preston                  Running Bear  1960\n",
       "4        5     Mark Dinning                    Teen Angel  1960\n",
       "...    ...              ...                           ...   ...\n",
       "5295    96        Kip Moore       Somethin’ ‘Bout A Truck  2012\n",
       "5296    97           Miguel                         Adorn  2012\n",
       "5297    98     Jason Aldean               Fly Over States  2012\n",
       "5298    99   Eli Young Band  Even If It Breaks Your Heart  2012\n",
       "5299   100      Linkin Park                  Burn It Down  2012\n",
       "\n",
       "[5300 rows x 4 columns]"
      ]
     },
     "execution_count": 50,
     "metadata": {},
     "output_type": "execute_result"
    }
   ],
   "source": [
    "data"
   ]
  },
  {
   "cell_type": "code",
   "execution_count": 51,
   "metadata": {},
   "outputs": [],
   "source": [
    "data.to_csv('data.csv', index=False)"
   ]
  },
  {
   "cell_type": "code",
   "execution_count": 159,
   "metadata": {},
   "outputs": [],
   "source": [
    "# reading in data on top songs\n",
    "df = pd.read_csv('data.csv')\n",
    "\n",
    "# no punctuation, lower case, no spaces\n",
    "df['artist']= df['artist'].str.replace(r'[^\\w\\s]+','').str.lower().str.replace(' ', '')\n",
    "df[\"song\"] = df['song'].str.replace(r'[^\\w\\s]+','').str.lower().str.replace(' ', '')\n",
    "\n",
    "df2 = df.head(100)"
   ]
  },
  {
   "cell_type": "code",
   "execution_count": 240,
   "metadata": {},
   "outputs": [
    {
     "data": {
      "text/plain": [
       "'https://www.azlyrics.com/lyrics/elvispresley/itsnowornever.html'"
      ]
     },
     "execution_count": 240,
     "metadata": {},
     "output_type": "execute_result"
    }
   ],
   "source": [
    "# building out the logic for the loop\n",
    "x = 6\n",
    "artist = df2.iloc[x]['artist']\n",
    "song = df2.iloc[x]['song']\n",
    "\n",
    "url = \"https://www.azlyrics.com/lyrics/\" + str(artist) + \"/\" + str(song) +\".html\"\n",
    "url"
   ]
  },
  {
   "cell_type": "code",
   "execution_count": 241,
   "metadata": {},
   "outputs": [
    {
     "data": {
      "text/plain": [
       "\" \\r It's now or never Come hold me tight Kiss me my darling Be mine tonight Tomorrow will be too late It's now or never My love won't wait  When I first saw you With your smile so tender My heart was captured My soul surrendered I'd spend a lifetime Waiting for the right time Now that you're near The time is here at last  It's now or never Come hold me tight Kiss me my darling Be mine tonight Tomorrow will be too late It's now or never My love won't wait  Just like a willow We would cry an ocean If we lost true love And sweet devotion Your lips excite me Let your arms invite me For who knows when We'll meet again this way  It's now or never Come hold me tight Kiss me my darling Be mine tonight Tomorrow will be too late It's now or never My love won't wait  It's now or never My love won't wait  It's now or never My love won't wait  It's now or never My love won't wait \""
      ]
     },
     "execution_count": 241,
     "metadata": {},
     "output_type": "execute_result"
    }
   ],
   "source": [
    "html = requests.get(url)\n",
    "soup = BeautifulSoup(html.text, 'lxml')\n",
    "# this will return all divs without a class\n",
    "lyric = soup.findAll('div', {\"class\":None})\n",
    "# this will return just the text from the string\n",
    "lyric = lyric[1].get_text().replace('\\n', ' ')\n",
    "lyric"
   ]
  },
  {
   "cell_type": "code",
   "execution_count": 266,
   "metadata": {},
   "outputs": [
    {
     "data": {
      "text/plain": [
       "[]"
      ]
     },
     "execution_count": 266,
     "metadata": {},
     "output_type": "execute_result"
    }
   ],
   "source": [
    "i = 2\n",
    "\n",
    "artist = df2.iloc[i]['artist']\n",
    "song = df2.iloc[i]['song']\n",
    "url = \"https://www.azlyrics.com/lyrics/\" + str(artist) + \"/\" + str(song) +\".html\"\n",
    "\n"
   ]
  },
  {
   "cell_type": "code",
   "execution_count": 268,
   "metadata": {},
   "outputs": [
    {
     "data": {
      "text/plain": [
       "\"\\n\\n\\n\\n\\n\\nAZLyrics - request for access\\n\\n\\n\\n\\n\\n\\n\\n\\n\\n\\n\\n\\n\\n\\n\\n\\n\\n\\n\\n\\n\\n\\n\\n\\n\\n\\r\\n              Our systems have detected unusual activity from your IP address (computer network). \\r\\n              This page checks to see if it's really you sending the requests, and not a robot.\\r\\n      \\n\\n\\nPlease check the box below to regain access to AZLyrics.com.\\n\\n\\n\\n\\n\\n\\n\\n\\n\\n\\n \\n\\n\\n\\n\\n\\n\\n\\n\\n\\n\\n\\n\\n\\n\""
      ]
     },
     "execution_count": 268,
     "metadata": {},
     "output_type": "execute_result"
    }
   ],
   "source": [
    "html = requests.get(url)\n",
    "soup = BeautifulSoup(html.text, 'lxml')\n",
    "# this will return all divs without a class\n",
    "soup.get_text()"
   ]
  },
  {
   "cell_type": "code",
   "execution_count": 264,
   "metadata": {},
   "outputs": [
    {
     "ename": "IndexError",
     "evalue": "list index out of range",
     "output_type": "error",
     "traceback": [
      "\u001b[0;31m---------------------------------------------------------------------------\u001b[0m",
      "\u001b[0;31mIndexError\u001b[0m                                Traceback (most recent call last)",
      "\u001b[0;32m<ipython-input-264-1e91cd018617>\u001b[0m in \u001b[0;36m<module>\u001b[0;34m\u001b[0m\n\u001b[1;32m     13\u001b[0m     \u001b[0mlyric\u001b[0m \u001b[0;34m=\u001b[0m \u001b[0msoup\u001b[0m\u001b[0;34m.\u001b[0m\u001b[0mfindAll\u001b[0m\u001b[0;34m(\u001b[0m\u001b[0;34m'div'\u001b[0m\u001b[0;34m,\u001b[0m \u001b[0;34m{\u001b[0m\u001b[0;34m\"class\"\u001b[0m\u001b[0;34m:\u001b[0m\u001b[0;32mNone\u001b[0m\u001b[0;34m}\u001b[0m\u001b[0;34m)\u001b[0m\u001b[0;34m\u001b[0m\u001b[0;34m\u001b[0m\u001b[0m\n\u001b[1;32m     14\u001b[0m     \u001b[0;31m# this will return just the text from the string\u001b[0m\u001b[0;34m\u001b[0m\u001b[0;34m\u001b[0m\u001b[0;34m\u001b[0m\u001b[0m\n\u001b[0;32m---> 15\u001b[0;31m     \u001b[0mlyric\u001b[0m \u001b[0;34m=\u001b[0m \u001b[0mlyric\u001b[0m\u001b[0;34m[\u001b[0m\u001b[0;36m1\u001b[0m\u001b[0;34m]\u001b[0m\u001b[0;34m.\u001b[0m\u001b[0mget_text\u001b[0m\u001b[0;34m(\u001b[0m\u001b[0;34m)\u001b[0m\u001b[0;34m.\u001b[0m\u001b[0mreplace\u001b[0m\u001b[0;34m(\u001b[0m\u001b[0;34m'\\n'\u001b[0m\u001b[0;34m,\u001b[0m \u001b[0;34m' '\u001b[0m\u001b[0;34m)\u001b[0m\u001b[0;34m\u001b[0m\u001b[0;34m\u001b[0m\u001b[0m\n\u001b[0m\u001b[1;32m     16\u001b[0m     \u001b[0mlyrics\u001b[0m\u001b[0;34m.\u001b[0m\u001b[0mappend\u001b[0m\u001b[0;34m(\u001b[0m\u001b[0mlyric\u001b[0m\u001b[0;34m)\u001b[0m\u001b[0;34m\u001b[0m\u001b[0;34m\u001b[0m\u001b[0m\n\u001b[1;32m     17\u001b[0m \u001b[0mlyrics\u001b[0m\u001b[0;34m\u001b[0m\u001b[0;34m\u001b[0m\u001b[0m\n",
      "\u001b[0;31mIndexError\u001b[0m: list index out of range"
     ]
    }
   ],
   "source": [
    "lyrics = []\n",
    "\n",
    "\n",
    "for i in range(0, 100):\n",
    "    # building a url\n",
    "    artist = df2.iloc[i]['artist']\n",
    "    song = df2.iloc[i]['song']\n",
    "    url = \"https://www.azlyrics.com/lyrics/\" + str(artist) + \"/\" + str(song) +\".html\"\n",
    "    \n",
    "    html = requests.get(url)\n",
    "    soup = BeautifulSoup(html.text, 'lxml')\n",
    "    # this will return all divs without a class\n",
    "    lyric = soup.findAll('div', {\"class\":None})\n",
    "    # this will return just the text from the string\n",
    "    lyric = lyric[1].get_text().replace('\\n', ' ')\n",
    "    lyrics.append(lyric)    \n",
    "lyrics"
   ]
  },
  {
   "cell_type": "code",
   "execution_count": 262,
   "metadata": {},
   "outputs": [
    {
     "data": {
      "text/plain": [
       "[]"
      ]
     },
     "execution_count": 262,
     "metadata": {},
     "output_type": "execute_result"
    }
   ],
   "source": [
    "lyrics"
   ]
  },
  {
   "cell_type": "code",
   "execution_count": 247,
   "metadata": {},
   "outputs": [],
   "source": [
    "lyrics = []\n",
    "lyrics.append(lyric)"
   ]
  },
  {
   "cell_type": "code",
   "execution_count": 248,
   "metadata": {},
   "outputs": [
    {
     "data": {
      "text/plain": [
       "[\" \\r Put your sweet lips a little closer to the phone Let's pretend that we're together all alone I'll tell the man to turn the jukebox way down low And you can tell your friend there with you, he'll have to go  Whisper to me, tell me, do you love me true Or is he holding you the way I do Though love is blind, make up your mind, I've got to know Should I hang up or will you tell him, he'll have to go  You can't say the words I want to hear while you're with another man Do you want me, answer yes or no, darlin' I will understand  Put your sweet lips a little closer to the phone Let's pretend that we're together all alone I'll tell the man to turn the jukebox way down low And you can tell your friend there with you, he'll have to go \"]"
      ]
     },
     "execution_count": 248,
     "metadata": {},
     "output_type": "execute_result"
    }
   ],
   "source": [
    "lyrics"
   ]
  },
  {
   "cell_type": "code",
   "execution_count": null,
   "metadata": {},
   "outputs": [],
   "source": []
  }
 ],
 "metadata": {
  "kernelspec": {
   "display_name": "Python 3",
   "language": "python",
   "name": "python3"
  },
  "language_info": {
   "codemirror_mode": {
    "name": "ipython",
    "version": 3
   },
   "file_extension": ".py",
   "mimetype": "text/x-python",
   "name": "python",
   "nbconvert_exporter": "python",
   "pygments_lexer": "ipython3",
   "version": "3.8.3"
  }
 },
 "nbformat": 4,
 "nbformat_minor": 4
}
